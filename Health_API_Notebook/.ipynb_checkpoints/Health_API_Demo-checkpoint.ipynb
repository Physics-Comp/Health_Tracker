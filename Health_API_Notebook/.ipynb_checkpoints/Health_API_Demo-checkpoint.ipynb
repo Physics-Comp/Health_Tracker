{
 "cells": [
  {
   "cell_type": "markdown",
   "metadata": {},
   "source": [
    "## Introduction to Health API Project\n",
    "The basis of the following tutorial is to illistrate the basic uses of the health API. The data being used in this tutorial is extracted from the Apple Health app and consists only of subset of each biometric category in the overal xml dataset (for more information please refer to the API Documentation)."
   ]
  },
  {
   "cell_type": "code",
   "execution_count": 1,
   "metadata": {},
   "outputs": [],
   "source": [
    "#Import the following packages\n",
    "from healthAPI import *"
   ]
  },
  {
   "cell_type": "code",
   "execution_count": 2,
   "metadata": {},
   "outputs": [
    {
     "name": "stdout",
     "output_type": "stream",
     "text": [
      "Type: HKQuantityTypeIdentifierHeartRate\n",
      "                          Heart Rate:count/min\n",
      "Date                                          \n",
      "2018-07-19 19:00:36 -0600                   63\n",
      "2018-07-19 19:15:20 -0600                   92\n",
      "2018-07-19 19:20:57 -0600                   64\n",
      "2018-07-19 19:26:14 -0600                   90\n",
      "2018-07-19 19:43:12 -0600                   88\n",
      "2018-07-19 19:47:14 -0600                   77\n",
      "2018-07-19 19:51:40 -0600                   74\n",
      "2018-07-19 19:58:33 -0600                   70\n",
      "2018-07-19 20:00:31 -0600                   73\n",
      "2018-07-19 20:05:31 -0600                   74\n",
      "2018-07-19 20:12:42 -0600                   76\n",
      "2018-07-19 20:19:35 -0600                   78\n",
      "2018-07-19 20:21:22 -0600                   70\n",
      "2018-07-19 20:27:57 -0600                   79\n",
      "2018-07-19 20:32:57 -0600                   71\n",
      "2018-07-19 20:35:17 -0600                   74\n",
      "2018-07-19 20:35:53 -0600                   62\n",
      "2018-07-19 20:49:19 -0600                   59\n",
      "2018-07-19 20:52:50 -0600                   69\n",
      "2018-07-19 20:57:01 -0600                   72\n",
      "2018-07-19 21:01:11 -0600                   86\n",
      "2018-07-19 21:07:14 -0600                   89\n",
      "2018-07-19 21:11:00 -0600                   78\n",
      "2018-07-19 21:15:20 -0600                   61\n",
      "2018-07-19 21:22:27 -0600                   70\n",
      "2018-07-19 21:33:54 -0600                   72\n",
      "2018-07-19 21:36:47 -0600                   76\n",
      "2018-07-19 21:37:40 -0600              68.0132\n",
      "2018-07-19 21:40:41 -0600                   73\n",
      "2018-07-19 21:43:29 -0600                   68\n",
      "2018-07-19 21:43:34 -0600                   68\n",
      "2018-07-19 21:43:39 -0600                   71\n",
      "2018-07-19 21:43:44 -0600                   71\n",
      "2018-07-19 21:43:49 -0600                   74\n"
     ]
    }
   ],
   "source": [
    "data = exerciseData('2018-07-19','2018-07-20','HeartRate')"
   ]
  },
  {
   "cell_type": "code",
   "execution_count": null,
   "metadata": {},
   "outputs": [],
   "source": []
  }
 ],
 "metadata": {
  "kernelspec": {
   "display_name": "Python 3",
   "language": "python",
   "name": "python3"
  },
  "language_info": {
   "codemirror_mode": {
    "name": "ipython",
    "version": 3
   },
   "file_extension": ".py",
   "mimetype": "text/x-python",
   "name": "python",
   "nbconvert_exporter": "python",
   "pygments_lexer": "ipython3",
   "version": "3.8.5"
  }
 },
 "nbformat": 4,
 "nbformat_minor": 4
}
