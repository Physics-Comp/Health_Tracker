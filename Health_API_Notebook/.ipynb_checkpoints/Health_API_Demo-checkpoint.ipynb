{
 "cells": [
  {
   "cell_type": "markdown",
   "metadata": {},
   "source": [
    "## Introduction to Health API Project\n",
    "The basis of the following tutorial is to illistrate the basic uses of the health API. The data being used in this tutorial is extracted from the Apple Health app and consists only of subset of each biometric category in the overal xml dataset (for more information please refer to the API Documentation). Note the following data used in the tutorial is only indicative of the subset data provided in the API."
   ]
  },
  {
   "cell_type": "code",
   "execution_count": 1,
   "metadata": {},
   "outputs": [],
   "source": [
    "#Import the heath app API\n",
    "from healthAPI import *"
   ]
  },
  {
   "cell_type": "markdown",
   "metadata": {},
   "source": [
    "After importing the healthAPI library we can now begin to extract data from our apple watch. First we are going to extract preliminary data from the data set regarding a health metric of interest. "
   ]
  },
  {
   "cell_type": "code",
   "execution_count": 2,
   "metadata": {},
   "outputs": [
    {
     "name": "stdout",
     "output_type": "stream",
     "text": [
      "Preliminary HeartRate Data\n",
      "--------------------------------------\n",
      "The number of entries for 34\n",
      "First Date 2018-07-19 19:00:36 -0600\n",
      "Last Date 2018-07-19 21:43:49 -0600\n",
      "No missind data entries\n"
     ]
    }
   ],
   "source": [
    "#Extract preliminart data\n",
    "prelim = prelimData('HeartRate')"
   ]
  },
  {
   "cell_type": "code",
   "execution_count": 4,
   "metadata": {},
   "outputs": [
    {
     "name": "stdout",
     "output_type": "stream",
     "text": [
      "Type: HKQuantityTypeIdentifierHeartRate\n"
     ]
    }
   ],
   "source": [
    "#Create a pandas datafram for hearth rate\n",
    "data = exerciseData(\"2018-07-19\",\"2018-07-21\",'HeartRate')\n",
    "print(data)"
   ]
  },
  {
   "cell_type": "code",
   "execution_count": null,
   "metadata": {},
   "outputs": [],
   "source": []
  }
 ],
 "metadata": {
  "kernelspec": {
   "display_name": "Python 3",
   "language": "python",
   "name": "python3"
  },
  "language_info": {
   "codemirror_mode": {
    "name": "ipython",
    "version": 3
   },
   "file_extension": ".py",
   "mimetype": "text/x-python",
   "name": "python",
   "nbconvert_exporter": "python",
   "pygments_lexer": "ipython3",
   "version": "3.8.5"
  }
 },
 "nbformat": 4,
 "nbformat_minor": 4
}
