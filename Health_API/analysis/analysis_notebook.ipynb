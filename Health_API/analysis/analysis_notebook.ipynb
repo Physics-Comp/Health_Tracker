{
 "cells": [
  {
   "cell_type": "markdown",
   "metadata": {},
   "source": [
    "Analysis Notebook will be used for performing an in-depth analysis of the health_data.xml file. "
   ]
  },
  {
   "cell_type": "code",
   "execution_count": 10,
   "metadata": {},
   "outputs": [
    {
     "name": "stdout",
     "output_type": "stream",
     "text": [
      "['/Users/andrewmatthews/Desktop/Code/Health_Tracker/Health_API/analysis', '/Users/andrewmatthews/.vscode/extensions/ms-toolsai.jupyter-2022.11.1003412109/pythonFiles', '/Users/andrewmatthews/.vscode/extensions/ms-toolsai.jupyter-2022.11.1003412109/pythonFiles/lib/python', '/Users/andrewmatthews/opt/anaconda3/lib/python39.zip', '/Users/andrewmatthews/opt/anaconda3/lib/python3.9', '/Users/andrewmatthews/opt/anaconda3/lib/python3.9/lib-dynload', '', '/Users/andrewmatthews/opt/anaconda3/lib/python3.9/site-packages', '/Users/andrewmatthews/opt/anaconda3/lib/python3.9/site-packages/aeosa', '/Users/andrewmatthews/opt/anaconda3/lib/python3.9/site-packages/locket-0.2.1-py3.9.egg', '/Users/andrewmatthews/opt/anaconda3/lib/python3.9/site-packages/IPython/extensions', '/Users/andrewmatthews/.ipython']\n"
     ]
    }
   ],
   "source": [
    "import sys\n",
    "print(sys.path)"
   ]
  },
  {
   "cell_type": "code",
   "execution_count": 13,
   "metadata": {
    "tags": []
   },
   "outputs": [
    {
     "ename": "ImportError",
     "evalue": "attempted relative import with no known parent package",
     "output_type": "error",
     "traceback": [
      "\u001b[0;31m---------------------------------------------------------------------------\u001b[0m",
      "\u001b[0;31mImportError\u001b[0m                               Traceback (most recent call last)",
      "\u001b[0;32m/var/folders/fw/8bzkrp356zbf_1pd6rmxx_9m0000gn/T/ipykernel_32397/1441168919.py\u001b[0m in \u001b[0;36m<module>\u001b[0;34m\u001b[0m\n\u001b[1;32m      1\u001b[0m \u001b[0;31m# Import Analysis Module\u001b[0m\u001b[0;34m\u001b[0m\u001b[0;34m\u001b[0m\u001b[0m\n\u001b[1;32m      2\u001b[0m \u001b[0;32mfrom\u001b[0m \u001b[0manalysis\u001b[0m \u001b[0;32mimport\u001b[0m \u001b[0mRecord\u001b[0m\u001b[0;34m\u001b[0m\u001b[0;34m\u001b[0m\u001b[0m\n\u001b[0;32m----> 3\u001b[0;31m \u001b[0;32mfrom\u001b[0m \u001b[0;34m.\u001b[0m\u001b[0;34m.\u001b[0m\u001b[0mhealth_path\u001b[0m\u001b[0;34m.\u001b[0m\u001b[0mpath\u001b[0m \u001b[0;32mimport\u001b[0m \u001b[0mPath\u001b[0m\u001b[0;34m\u001b[0m\u001b[0;34m\u001b[0m\u001b[0m\n\u001b[0m\u001b[1;32m      4\u001b[0m \u001b[0;32mimport\u001b[0m \u001b[0mmatplotlib\u001b[0m \u001b[0;32mas\u001b[0m \u001b[0mmpl\u001b[0m\u001b[0;34m\u001b[0m\u001b[0;34m\u001b[0m\u001b[0m\n\u001b[1;32m      5\u001b[0m \u001b[0;32mimport\u001b[0m \u001b[0mmatplotlib\u001b[0m\u001b[0;34m.\u001b[0m\u001b[0mpyplot\u001b[0m \u001b[0;32mas\u001b[0m \u001b[0mplt\u001b[0m\u001b[0;34m\u001b[0m\u001b[0;34m\u001b[0m\u001b[0m\n",
      "\u001b[0;31mImportError\u001b[0m: attempted relative import with no known parent package"
     ]
    }
   ],
   "source": [
    "# Import Analysis Module\n",
    "from analysis import Record\n",
    "from ..health_path.path import Path\n",
    "import matplotlib as mpl\n",
    "import matplotlib.pyplot as plt\n",
    "import re"
   ]
  },
  {
   "cell_type": "code",
   "execution_count": 10,
   "metadata": {},
   "outputs": [
    {
     "ename": "AttributeError",
     "evalue": "type object 'Path' has no attribute 'health_file_path'",
     "output_type": "error",
     "traceback": [
      "\u001b[0;31m---------------------------------------------------------------------------\u001b[0m",
      "\u001b[0;31mAttributeError\u001b[0m                            Traceback (most recent call last)",
      "\u001b[0;32m/var/folders/fw/8bzkrp356zbf_1pd6rmxx_9m0000gn/T/ipykernel_31177/963214635.py\u001b[0m in \u001b[0;36m<module>\u001b[0;34m\u001b[0m\n\u001b[1;32m      1\u001b[0m \u001b[0;31m# Define the path of the document and pass that into your root\u001b[0m\u001b[0;34m\u001b[0m\u001b[0;34m\u001b[0m\u001b[0m\n\u001b[1;32m      2\u001b[0m \u001b[0mpath\u001b[0m \u001b[0;34m=\u001b[0m \u001b[0;34m[\u001b[0m\u001b[0;34m'Desktop'\u001b[0m\u001b[0;34m,\u001b[0m\u001b[0;34m'Code'\u001b[0m\u001b[0;34m,\u001b[0m \u001b[0;34m'Health_Tracker'\u001b[0m\u001b[0;34m,\u001b[0m \u001b[0;34m'Health_API'\u001b[0m\u001b[0;34m,\u001b[0m \u001b[0;34m'datasets'\u001b[0m\u001b[0;34m,\u001b[0m \u001b[0;34m'health_data.xml'\u001b[0m\u001b[0;34m]\u001b[0m\u001b[0;34m\u001b[0m\u001b[0;34m\u001b[0m\u001b[0m\n\u001b[0;32m----> 3\u001b[0;31m \u001b[0mroot\u001b[0m \u001b[0;34m=\u001b[0m \u001b[0mPath\u001b[0m\u001b[0;34m.\u001b[0m\u001b[0mhealth_file_path\u001b[0m\u001b[0;34m(\u001b[0m\u001b[0mpath\u001b[0m\u001b[0;34m)\u001b[0m\u001b[0;34m\u001b[0m\u001b[0;34m\u001b[0m\u001b[0m\n\u001b[0m",
      "\u001b[0;31mAttributeError\u001b[0m: type object 'Path' has no attribute 'health_file_path'"
     ]
    }
   ],
   "source": [
    "# Define the path of the document and pass that into your root\n",
    "path = ['Desktop','Code', 'Health_Tracker', 'Health_API', 'datasets', 'health_data.xml']\n",
    "root = path.Path.health_file_path(path)\n"
   ]
  },
  {
   "cell_type": "code",
   "execution_count": 3,
   "metadata": {},
   "outputs": [
    {
     "name": "stdout",
     "output_type": "stream",
     "text": [
      "The XML tag has the root HealthData\n"
     ]
    }
   ],
   "source": [
    "# Ensure we have the correct data by printing the tag\n",
    "xml_root = root.tag\n",
    "print('The XML tag has the root', xml_root)"
   ]
  },
  {
   "attachments": {},
   "cell_type": "markdown",
   "metadata": {},
   "source": [
    "Below are the different unique tags along with the numbers of entries for each tag"
   ]
  },
  {
   "cell_type": "code",
   "execution_count": 4,
   "metadata": {},
   "outputs": [
    {
     "name": "stdout",
     "output_type": "stream",
     "text": [
      "{'ExportDate': 1, 'Me': 1, 'Record': 1762959, 'Correlation': 32, 'Workout': 166, 'ActivitySummary': 1346}\n"
     ]
    }
   ],
   "source": [
    "# Chart the number of child tags in each\n",
    "tags_dictionary = {}\n",
    "for child in root:\n",
    "    tags_dictionary[child.tag] = tags_dictionary.get(child.tag,0) + 1\n",
    "print(tags_dictionary)"
   ]
  },
  {
   "attachments": {},
   "cell_type": "markdown",
   "metadata": {},
   "source": [
    "Now we will perform an in-depth analysis of the tags shown above"
   ]
  },
  {
   "cell_type": "code",
   "execution_count": 7,
   "metadata": {},
   "outputs": [
    {
     "name": "stdout",
     "output_type": "stream",
     "text": [
      "{'value': '2022-10-17 22:25:02 -0500'}\n"
     ]
    }
   ],
   "source": [
    "export_date = root.find('ExportDate').attrib\n",
    "print(export_date)"
   ]
  },
  {
   "attachments": {},
   "cell_type": "markdown",
   "metadata": {},
   "source": [
    "The personal information below should not change over-time"
   ]
  },
  {
   "cell_type": "code",
   "execution_count": 6,
   "metadata": {},
   "outputs": [
    {
     "name": "stdout",
     "output_type": "stream",
     "text": [
      "{'DateOfBirth': '1996-01-29', 'Sex': 'HKBiologicalSexMale', 'BloodType': 'HKBloodTypeNotSet', 'SkinType': 'HKFitzpatrickSkinTypeNotSet', 'CardioMedication': 'None'}\n"
     ]
    }
   ],
   "source": [
    "#Define all personal information\n",
    "personal_info = root.find('Me').attrib\n",
    "\n",
    "#Create a dictionary containing all the extracted personal information\n",
    "personal_info_dict = {\n",
    "    'DateOfBirth': personal_info['HKCharacteristicTypeIdentifierDateOfBirth'],\n",
    "    'Sex': personal_info['HKCharacteristicTypeIdentifierBiologicalSex'],\n",
    "    'BloodType': personal_info['HKCharacteristicTypeIdentifierBloodType'],\n",
    "    'SkinType': personal_info['HKCharacteristicTypeIdentifierFitzpatrickSkinType'],\n",
    "    'CardioMedication': personal_info['HKCharacteristicTypeIdentifierCardioFitnessMedicationsUse']\n",
    "}\n",
    "\n",
    "print(personal_info_dict)"
   ]
  },
  {
   "cell_type": "code",
   "execution_count": 4,
   "metadata": {},
   "outputs": [
    {
     "name": "stdout",
     "output_type": "stream",
     "text": [
      "{'HKQuantityTypeIdentifierDietaryWater': 1, 'HKQuantityTypeIdentifierHeight': 1, 'HKQuantityTypeIdentifierBodyMass': 3, 'HKQuantityTypeIdentifierHeartRate': 262035, 'HKQuantityTypeIdentifierRespiratoryRate': 604, 'HKQuantityTypeIdentifierStepCount': 180933, 'HKQuantityTypeIdentifierDistanceWalkingRunning': 182160, 'HKQuantityTypeIdentifierBasalEnergyBurned': 212105, 'HKQuantityTypeIdentifierActiveEnergyBurned': 768376, 'HKQuantityTypeIdentifierFlightsClimbed': 16280, 'HKQuantityTypeIdentifierDietaryFatTotal': 32, 'HKQuantityTypeIdentifierDietaryFatSaturated': 32, 'HKQuantityTypeIdentifierDietaryCholesterol': 32, 'HKQuantityTypeIdentifierDietarySodium': 32, 'HKQuantityTypeIdentifierDietaryCarbohydrates': 32, 'HKQuantityTypeIdentifierDietaryFiber': 32, 'HKQuantityTypeIdentifierDietarySugar': 32, 'HKQuantityTypeIdentifierDietaryEnergyConsumed': 32, 'HKQuantityTypeIdentifierDietaryProtein': 32, 'HKQuantityTypeIdentifierDietaryVitaminA': 28, 'HKQuantityTypeIdentifierAppleExerciseTime': 36632, 'HKQuantityTypeIdentifierRestingHeartRate': 1132, 'HKQuantityTypeIdentifierVO2Max': 121, 'HKQuantityTypeIdentifierWalkingHeartRateAverage': 886, 'HKQuantityTypeIdentifierHeadphoneAudioExposure': 3223, 'HKQuantityTypeIdentifierWalkingDoubleSupportPercentage': 7520, 'HKQuantityTypeIdentifierSixMinuteWalkTestDistance': 33, 'HKQuantityTypeIdentifierAppleStandTime': 29419, 'HKQuantityTypeIdentifierWalkingSpeed': 16664, 'HKQuantityTypeIdentifierWalkingStepLength': 16664, 'HKQuantityTypeIdentifierWalkingAsymmetryPercentage': 4509, 'HKDataTypeSleepDurationGoal': 2, 'HKQuantityTypeIdentifierAppleWalkingSteadiness': 22, 'HKCategoryTypeIdentifierSleepAnalysis': 1780, 'HKCategoryTypeIdentifierAppleStandHour': 17968, 'HKCategoryTypeIdentifierMindfulSession': 21, 'HKCategoryTypeIdentifierHighHeartRateEvent': 5, 'HKCategoryTypeIdentifierLowHeartRateEvent': 27, 'HKCategoryTypeIdentifierHeadphoneAudioExposureEvent': 4, 'HKQuantityTypeIdentifierHeartRateVariabilitySDNN': 3513}\n"
     ]
    }
   ],
   "source": [
    "#Output record types dictionary\n",
    "record_types = Analysis.record_dictionary(root)\n",
    "print(record_types)"
   ]
  },
  {
   "attachments": {},
   "cell_type": "markdown",
   "metadata": {},
   "source": [
    "** Improvement: Use Regex to create a dictionary to map simplified naming conventions (by removing HKQuantityTypeIdentifier from the dictionary keys) to\n",
    "to full naming convention of Records shown above. **"
   ]
  },
  {
   "cell_type": "code",
   "execution_count": 5,
   "metadata": {},
   "outputs": [
    {
     "name": "stdout",
     "output_type": "stream",
     "text": [
      "{'Dietary_Water': 'HKQuantityTypeIdentifierDietaryWater', 'Height': 'HKQuantityTypeIdentifierHeight', 'Body_Mass': 'HKQuantityTypeIdentifierBodyMass', 'Heart_Rate': 'HKQuantityTypeIdentifierHeartRate', 'Respiratory_Rate': 'HKQuantityTypeIdentifierRespiratoryRate', 'Step_Count': 'HKQuantityTypeIdentifierStepCount', 'Distance_Walking_Running': 'HKQuantityTypeIdentifierDistanceWalkingRunning', 'Basal_Energy_Burned': 'HKQuantityTypeIdentifierBasalEnergyBurned', 'Active_Energy_Burned': 'HKQuantityTypeIdentifierActiveEnergyBurned', 'Flights_Climbed': 'HKQuantityTypeIdentifierFlightsClimbed', 'Dietary_Fat_Total': 'HKQuantityTypeIdentifierDietaryFatTotal', 'Dietary_Fat_Saturated': 'HKQuantityTypeIdentifierDietaryFatSaturated', 'Dietary_Cholesterol': 'HKQuantityTypeIdentifierDietaryCholesterol', 'Dietary_Sodium': 'HKQuantityTypeIdentifierDietarySodium', 'Dietary_Carbohydrates': 'HKQuantityTypeIdentifierDietaryCarbohydrates', 'Dietary_Fiber': 'HKQuantityTypeIdentifierDietaryFiber', 'Dietary_Sugar': 'HKQuantityTypeIdentifierDietarySugar', 'Dietary_Energy_Consumed': 'HKQuantityTypeIdentifierDietaryEnergyConsumed', 'Dietary_Protein': 'HKQuantityTypeIdentifierDietaryProtein', 'Dietary_Vitamin_A': 'HKQuantityTypeIdentifierDietaryVitaminA', 'Apple_Exercise_Time': 'HKQuantityTypeIdentifierAppleExerciseTime', 'Resting_Heart_Rate': 'HKQuantityTypeIdentifierRestingHeartRate', 'VO2Max': 'HKQuantityTypeIdentifierVO2Max', 'Walking_Heart_Rate_Average': 'HKQuantityTypeIdentifierWalkingHeartRateAverage', 'Headphone_Audio_Exposure': 'HKQuantityTypeIdentifierHeadphoneAudioExposure', 'Walking_Double_Support_Percentage': 'HKQuantityTypeIdentifierWalkingDoubleSupportPercentage', 'Six_Minute_Walk_Test_Distance': 'HKQuantityTypeIdentifierSixMinuteWalkTestDistance', 'Apple_Stand_Time': 'HKQuantityTypeIdentifierAppleStandTime', 'Walking_Speed': 'HKQuantityTypeIdentifierWalkingSpeed', 'Walking_Step_Length': 'HKQuantityTypeIdentifierWalkingStepLength', 'Walking_Asymmetry_Percentage': 'HKQuantityTypeIdentifierWalkingAsymmetryPercentage', 'Sleep_Duration_Goal': 'HKDataTypeSleepDurationGoal', 'Apple_Walking_Steadiness': 'HKQuantityTypeIdentifierAppleWalkingSteadiness', 'Sleep_Analysis': 'HKCategoryTypeIdentifierSleepAnalysis', 'Apple_Stand_Hour': 'HKCategoryTypeIdentifierAppleStandHour', 'Mindful_Session': 'HKCategoryTypeIdentifierMindfulSession', 'High_Heart_Rate_Event': 'HKCategoryTypeIdentifierHighHeartRateEvent', 'Low_Heart_Rate_Event': 'HKCategoryTypeIdentifierLowHeartRateEvent', 'Headphone_Audio_Exposure_Event': 'HKCategoryTypeIdentifierHeadphoneAudioExposureEvent', 'Heart_Rate_Variability_SDNN': 'HKQuantityTypeIdentifierHeartRateVariabilitySDNN'}\n"
     ]
    }
   ],
   "source": [
    "\n",
    "var1 = Analysis.concise_biometric_dict(root)\n",
    "print(var1)"
   ]
  },
  {
   "cell_type": "code",
   "execution_count": null,
   "metadata": {},
   "outputs": [],
   "source": []
  }
 ],
 "metadata": {
  "kernelspec": {
   "display_name": "base",
   "language": "python",
   "name": "python3"
  },
  "language_info": {
   "codemirror_mode": {
    "name": "ipython",
    "version": 3
   },
   "file_extension": ".py",
   "mimetype": "text/x-python",
   "name": "python",
   "nbconvert_exporter": "python",
   "pygments_lexer": "ipython3",
   "version": "3.9.7"
  },
  "orig_nbformat": 4,
  "vscode": {
   "interpreter": {
    "hash": "acd7b37332352d724189db37c9c30d9df79a0adcbae6c3c9cdc8c289050c6c59"
   }
  }
 },
 "nbformat": 4,
 "nbformat_minor": 2
}
